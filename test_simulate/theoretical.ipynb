{
 "cells": [
  {
   "cell_type": "code",
   "execution_count": 198,
   "metadata": {
    "slideshow": {
     "slide_type": "-"
    }
   },
   "outputs": [],
   "source": [
    "import numpy as np\n",
    "import matplotlib.pyplot as plt\n",
    "%matplotlib inline\n",
    "\n",
    "class GeneType():\n",
    "    \n",
    "    def __init__(self, Gene, alpha):\n",
    "        # alpha = {division_rate:division, pasym, psym, dsym, \n",
    "        #          death_rate:death, v, compete:c, K, adjust,\n",
    "        #          mul_division:dd, delta_psym:dp, delta_mute:dm,\n",
    "        #          l_ratio:l/c1+l, pow:alpha in growth func}\n",
    "        self.G = Gene\n",
    "        self.alpha = alpha\n",
    "        return\n",
    "    \n",
    "    def mutate(self, types):\n",
    "        \n",
    "        alpha = {key:self.alpha[key] for key in self.alpha}\n",
    "        for mut in types:\n",
    "            \n",
    "            if len(self.G) >= 3:\n",
    "                return self.get_attr(), self.get_alpha()\n",
    "        \n",
    "            if mut == \"S\":\n",
    "                alpha[\"division\"] *= alpha[\"dd\"]\n",
    "            elif mut == \"F\":\n",
    "                r_before = (alpha[\"psym\"]-alpha[\"dsym\"])*alpha[\"division\"]-alpha[\"death\"]\n",
    "                \n",
    "                alpha[\"psym\"] += alpha[\"dp\"]\n",
    "                alpha[\"pasym\"] -= alpha[\"dp\"]\n",
    "                \n",
    "                r_after = (alpha[\"psym\"]-alpha[\"dsym\"])*alpha[\"division\"]-alpha[\"death\"]\n",
    "                \n",
    "                alpha[\"K\"] *= r_after/r_before\n",
    "                \n",
    "            else:\n",
    "                alpha[\"v\"] += alpha[\"dm\"]\n",
    "\n",
    "            self.G += mut\n",
    "        \n",
    "        self.alpha = alpha\n",
    "        return self.get_attr(), self.get_alpha()\n",
    "    \n",
    "    def get_attr(self):\n",
    "        alpha = self.alpha\n",
    "        \n",
    "        self.va = alpha[\"v\"] * alpha[\"adjust\"] / 2\n",
    "        self.vs = alpha[\"v\"] * alpha[\"adjust\"]\n",
    "        self.v = self.va * alpha[\"pasym\"] + self.vs * alpha[\"psym\"]\n",
    "        self.K = alpha[\"K\"]\n",
    "    \n",
    "        self.b = self.alpha[\"psym\"] * self.alpha[\"division\"]\n",
    "        self.d = self.alpha[\"dsym\"] * self.alpha[\"division\"] + self.alpha[\"death\"]\n",
    "        self.r = self.b - self.d\n",
    "        \n",
    "        return {\"b\":self.b, \"d\":self.d, \"r\":self.r, \"K\":self.K, \"G\":self.G,\n",
    "                \"va\":self.va, \"vs\":self.vs, \"v\":self.v}\n",
    "    \n",
    "    def get_alpha(self):\n",
    "        return self.alpha\n",
    "\n",
    "class growth():\n",
    "    \n",
    "    def __init__(self, beta):\n",
    "        # beta is alpha in main class\n",
    "        self.beta = beta\n",
    "    \n",
    "    def growth_rate(self,x):\n",
    "        beta = self.beta\n",
    "        l = beta[\"division\"]*beta[\"l_ratio\"]\n",
    "        c1 = beta[\"division\"]*(1-beta[\"l_ratio\"])*np.exp(1)\n",
    "        \n",
    "        if x > beta[\"K\"]:\n",
    "            div = l\n",
    "        else:\n",
    "            div = c1*np.exp(-1/(1-(x/beta[\"K\"])**beta[\"pow\"])) + l\n",
    "            \n",
    "        return beta[\"psym\"] * div - beta[\"dsym\"] * div - beta[\"death\"]\n",
    "    \n",
    "    def get_init_time(self):\n",
    "        beta = self.beta\n",
    "        x_size = 1; t = 0.1\n",
    "        while True:\n",
    "            x_size *= np.exp(self.growth_rate(x_size)*0.1)\n",
    "            if x_size >= beta[\"eps\"]*beta[\"K\"]:\n",
    "                return t\n",
    "            t += 0.1\n",
    "    \n",
    "    def get_dynamics(self, ts):\n",
    "        beta = self.beta\n",
    "        x_size = beta[\"eps\"] * beta[\"K\"]\n",
    "        dt = ts[1]-ts[0]\n",
    "        res = np.zeros_like(ts)\n",
    "        for i, t in enumerate(ts):\n",
    "            res[i] = x_size\n",
    "            x_size *= np.exp(self.growth_rate(x_size)*dt)\n",
    "        return res\n",
    "    \n",
    "    \n",
    "class tissue():\n",
    "    \n",
    "    def __init__(self, alpha, pfunc, \n",
    "                 T, period, Gene=\"\",\n",
    "                 check = True):\n",
    "        self.eps = alpha[\"eps\"]\n",
    "        self.ptrans = pfunc\n",
    "        self.alpha = alpha\n",
    "        self.T = T\n",
    "        self.period = period\n",
    "        self.para = GeneType(Gene, alpha).get_attr()\n",
    "        self.ts = np.linspace(0, self.T, num=self.period)\n",
    "        self.solution = {}\n",
    "        if check:\n",
    "            self.self_check()\n",
    "    \n",
    "    def self_check(self):\n",
    "        self.excess_survive_rate = (self.para[\"d\"]/self.para[\"b\"]) * (self.eps*self.para[\"K\"])**(-1)\n",
    "        self.mutation_before_epsK = 1 - np.exp(\n",
    "                        -self.para[\"v\"]*self.eps*self.para[\"K\"]/self.para[\"r\"] * \n",
    "                         (np.log(self.para[\"r\"]*self.eps*self.para[\"K\"]/self.para[\"b\"]) + 0.58)\n",
    "                        )\n",
    "        print(\"Excess Survival ratio : \", self.excess_survive_rate/(self.para[\"r\"]/self.para[\"b\"]))\n",
    "        print(\"P(mutiation in [0,tao]): \", self.mutation_before_epsK)\n",
    "        init_T = growth(self.alpha).get_init_time()\n",
    "        print(\"Init time to grow to size eps*K: \", init_T)\n",
    "#         print(self.para[\"r\"]*np.exp(-self.para[\"r\"]*init_T)/self.para[\"b\"])\n",
    "        print(\"Approximation Validity: \", \n",
    "              1-np.exp(-self.para[\"r\"]*self.eps*self.para[\"K\"]*\\\n",
    "                       np.exp(-self.para[\"r\"]*init_T)/self.para[\"b\"]))\n",
    "        self.T = self.T - growth(self.alpha).get_init_time()\n",
    "        self.ts = np.linspace(0, self.T, num=self.period)\n",
    "    \n",
    "    def density(self, ts, para):\n",
    "        e_rGt = np.exp(-para[\"r\"]*ts)\n",
    "        return (para[\"r\"]**2 * self.eps*para[\"K\"])/para[\"b\"] * e_rGt * \\\n",
    "                np.exp(-para[\"r\"]*self.eps*para[\"K\"] * e_rGt/para[\"b\"])\n",
    "    \n",
    "    def get_Gene(self, G, alpha):\n",
    "        return GeneType(G, alpha)\n",
    "    \n",
    "    def mutate(self, types):\n",
    "        self.para, self.alpha = self.get_Gene(self.para[\"G\"],self.alpha).mutate(types)\n",
    "    \n",
    "    def vGfunc(self, ts, alpha, para):\n",
    "        return para[\"v\"] * growth(alpha).get_dynamics(ts)\n",
    "        \n",
    "    def muiGUfunc(self, ts, mtype, para, alpha):\n",
    "        GU, _ = self.get_Gene(para[\"G\"], alpha).mutate(mtype)\n",
    "        vG = self.vGfunc(ts, alpha, para)\n",
    "        fGU = self.density(ts, GU)\n",
    "        ds = (ts[-1] - ts[0]) / (len(ts)-1)\n",
    "        coeff = self.ptrans(para[\"G\"], mtype)*GU[\"r\"] / GU[\"b\"]\n",
    "        return coeff * np.convolve(vG*ds, fGU)[:len(ts)]\n",
    "    \n",
    "    def evolve(self, ts, muiGU, qGU):\n",
    "        ds = (ts[-1] - ts[0]) / (len(ts)-1)\n",
    "        qGU_rev = qGU[::-1]\n",
    "        aux = np.convolve(muiGU*ds, 1-qGU_rev)[:len(muiGU)]\n",
    "        aux = aux[::-1]\n",
    "        return np.exp(-aux)\n",
    "        \n",
    "    def solveAUX(self, ts, para, alpha):\n",
    "        if para[\"G\"]:\n",
    "            print(para[\"G\"], end=\"  \")\n",
    "        if len(para[\"G\"]) == 3 and \"S\" in para[\"G\"] and \"F\" in para[\"G\"]:\n",
    "            self.solution[para[\"G\"]] = np.zeros_like(ts)\n",
    "            return np.zeros_like(ts)\n",
    "        elif len(para[\"G\"]) == 3:\n",
    "            self.solution[para[\"G\"]] = np.ones_like(ts)\n",
    "            return np.ones_like(ts)\n",
    "        else:\n",
    "            qG = np.ones_like(ts)\n",
    "            for U in \"SFM\":\n",
    "                paraU,alphaU = self.get_Gene(para[\"G\"], alpha).mutate(U)\n",
    "                muiGU = self.muiGUfunc(ts, U, para, alpha)\n",
    "                qG *= self.evolve(ts, muiGU, self.solveAUX(ts, paraU, alphaU))\n",
    "            self.solution[para[\"G\"]] = qG\n",
    "            return qG\n",
    "    \n",
    "    def solve(self):\n",
    "        self.solveAUX(self.ts,self.para,self.alpha)\n",
    "        print(\"\")\n",
    "        return self.solution\n",
    "        \n",
    "    \n",
    "def pGUfunc(G, U):\n",
    "    if len(G) == 0:\n",
    "        pdict = {\"F\":1, \"S\":0, \"M\":0}\n",
    "    elif len(G) == 1:\n",
    "        pdict = {\"F\":645, \"S\":643, \"M\":1197}\n",
    "    elif len(G) == 2:\n",
    "        if G[1] == \"F\":\n",
    "            pdict = {\"F\":2, \"S\":19, \"M\":15}\n",
    "        if G[1] == \"S\":\n",
    "            pdict = {\"F\":5, \"S\":21, \"M\":30}\n",
    "        if G[1] == \"M\":\n",
    "            pdict = {\"F\":2, \"S\":9, \"M\":12}\n",
    "    else:\n",
    "        pdict = {\"F\":1, \"S\":1, \"M\":1}\n",
    "        \n",
    "    return pdict[U]/(pdict[\"S\"]+pdict[\"F\"]+pdict[\"M\"])\n",
    "\n",
    "def pGUfunc2(G, U):\n",
    "    F, S, M = 0, 0, 0\n",
    "    for c in G:\n",
    "        if c == \"F\":\n",
    "            F += 1\n",
    "        if c == \"S\":\n",
    "            S += 1\n",
    "    pdict = {\"F\":4/(1+F), \"S\":7/(1+S), \"M\":4}\n",
    "#     pdict = {\"F\":4, \"S\":7, \"M\":7}\n",
    "    return pdict[U]\n",
    "    "
   ]
  },
  {
   "cell_type": "code",
   "execution_count": 206,
   "metadata": {
    "scrolled": true
   },
   "outputs": [
    {
     "name": "stdout",
     "output_type": "stream",
     "text": [
      "Excess Survival ratio :  0.004761278719459091\n",
      "P(mutiation in [0,tao]):  0.00996558606455733\n",
      "Init time to grow to size eps*K:  869.3000000001291\n",
      "Approximation Validity:  0.09016676239647026\n",
      "{'division': 1.75, 'death': 0, 'pasym': 0.9, 'psym': 0.0525, 'dsym': 0.04750000000000001, 'adjust': 0.015, 'v': 1e-06, 'K': 1995262314.9688828, 'dd': 1.14794853, 'dp': 0.0021200000000000004, 'dm': 4.9999999999999996e-06, 'l_ratio': 0.08571428571428572, 'pow': 0.4117, 'eps': 1e-06}\n",
      "S  SS  SSS  SSF  SSM  SF  SFS  SFF  SFM  SM  SMS  SMF  SMM  F  FS  FSS  FSF  FSM  FF  FFS  FFF  FFM  FM  FMS  FMF  FMM  M  MS  MSS  MSF  MSM  MF  MFS  MFF  MFM  MM  MMS  MMF  MMM  \n",
      "Done\n"
     ]
    }
   ],
   "source": [
    "alpha = {\"division\":1.75, \"death\":0, \"pasym\":0.9, \"psym\":0.0525, \"dsym\":0.1-0.0525,\n",
    "         \"adjust\":(4+7+4)*1e-3, \"v\":1e-6, \"K\":10**9.3, \"dd\":1.14794853, \"dp\":2.12*1e-3, \"dm\":5*1e-6,\n",
    "         \"l_ratio\":0.15/(1.6+0.15), \"pow\":0.4117, \"eps\":1e-6}\n",
    "\n",
    "TestNULL = tissue(alpha, pGUfunc, 52*80,52*80*10)\n",
    "print(TestNULL.alpha)\n",
    "solution = TestNULL.solve()\n",
    "print(\"Done\")"
   ]
  },
  {
   "cell_type": "code",
   "execution_count": 207,
   "metadata": {},
   "outputs": [
    {
     "data": {
      "text/plain": [
       "array([0.55391237, 0.5536928 , 0.55347325, ..., 0.        , 0.        ,\n",
       "       0.        ])"
      ]
     },
     "execution_count": 207,
     "metadata": {},
     "output_type": "execute_result"
    }
   ],
   "source": [
    "1-solution[\"\"]"
   ]
  },
  {
   "cell_type": "code",
   "execution_count": 208,
   "metadata": {},
   "outputs": [
    {
     "data": {
      "image/png": "[encoded data removed]",
      "text/plain": [
       "<Figure size 432x288 with 1 Axes>"
      ]
     },
     "metadata": {
      "needs_background": "light"
     },
     "output_type": "display_data"
    }
   ],
   "source": [
    "plt.plot(TestNULL.ts/52, 1-solution[\"\"], label='Line 1')\n",
    "plt.show()"
   ]
  },
  {
   "cell_type": "code",
   "execution_count": 209,
   "metadata": {},
   "outputs": [
    {
     "data": {
      "image/png": "[encoded data removed]",
      "text/plain": [
       "<Figure size 432x288 with 1 Axes>"
      ]
     },
     "metadata": {
      "needs_background": "light"
     },
     "output_type": "display_data"
    }
   ],
   "source": [
    "SM, = plt.plot(TestNULL.ts/52, 1-solution[\"SM\"], label='Line 1')\n",
    "FS, = plt.plot(TestNULL.ts/52, 1-solution[\"FS\"], label='Line 2')\n",
    "FM, = plt.plot(TestNULL.ts/52, 1-solution[\"FM\"], label='Line 3')\n",
    "FF, = plt.plot(TestNULL.ts/52, 1-solution[\"FF\"], label='Line 4')\n",
    "plt.legend([SM,FS,FM,FF], ['SM','FS','FM','FF'])\n",
    "plt.show()"
   ]
  },
  {
   "cell_type": "code",
   "execution_count": 210,
   "metadata": {},
   "outputs": [
    {
     "data": {
      "image/png": "[encoded data removed]",
      "text/plain": [
       "<Figure size 432x288 with 1 Axes>"
      ]
     },
     "metadata": {
      "needs_background": "light"
     },
     "output_type": "display_data"
    }
   ],
   "source": [
    "M, = plt.plot(TestNULL.ts/52, 1-solution[\"M\"], label='Line 1')\n",
    "S, = plt.plot(TestNULL.ts/52, 1-solution[\"S\"], label='Line 2')\n",
    "F, = plt.plot(TestNULL.ts/52, 1-solution[\"F\"], label='Line 3')\n",
    "plt.legend([M,S,F], ['M','S','F'])\n",
    "plt.show()"
   ]
  },
  {
   "cell_type": "code",
   "execution_count": 211,
   "metadata": {},
   "outputs": [
    {
     "data": {
      "text/plain": [
       "2.254532194726022e-05"
      ]
     },
     "execution_count": 211,
     "metadata": {},
     "output_type": "execute_result"
    }
   ],
   "source": [
    "test = np.linspace(0,0.99,num=1000)\n",
    "true = np.exp(-(1-test)**3/6)\n",
    "def evolve(ts, muiGU, qGU):\n",
    "    ds = (ts[-1] - ts[0]) / (len(ts)-1)\n",
    "    qGU_rev = qGU[::-1]\n",
    "    aux = np.convolve(muiGU*ds, 1-qGU_rev)[:len(muiGU)]\n",
    "    aux = aux[::-1]\n",
    "    return np.exp(-aux)\n",
    "\n",
    "np.mean((evolve(test, test, test) - true)/true)"
   ]
  }
 ],
 "metadata": {
  "kernelspec": {
   "display_name": "Python 3",
   "language": "python",
   "name": "python3"
  },
  "language_info": {
   "codemirror_mode": {
    "name": "ipython",
    "version": 3
   },
   "file_extension": ".py",
   "mimetype": "text/x-python",
   "name": "python",
   "nbconvert_exporter": "python",
   "pygments_lexer": "ipython3",
   "version": "3.6.7"
  }
 },
 "nbformat": 4,
 "nbformat_minor": 2
}
