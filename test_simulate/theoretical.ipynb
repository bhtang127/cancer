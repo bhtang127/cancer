{
 "cells": [
  {
   "cell_type": "markdown",
   "metadata": {},
   "source": [
    "## Theoretical Result \n",
    "\n",
    "### Checking\n",
    "\n",
    "We need to check for three conditions:\n",
    "\n",
    "1. Survival Probability $\\frac{d}{b} \\frac{1}{\\epsilon K} + \\frac{r}{b}$ is close to $\\frac{r}{b}$, where we calculate $\\frac{d}{b} \\frac{1}{\\epsilon K} \\left/ \\frac{r}{b} \\right.$ and call this value the `excess survival rate`, we want it to be small enough.\n",
    "\n",
    "2. Consistency: $1 - \\exp(-\\frac{r e^{-rt} \\epsilon K}{b})$, we want this to be close to 1. We check this under time $T\n",
    "$, which is the time need to growth from $1$ to $\\epsilon K$ using determinstic dynamics.\n",
    "\n",
    "3. Mutation probability in range $[0, \\tau] \\le 1 - \\exp(-\\frac{v\\epsilon K}{r}(\\gamma + \\ln(\\frac{r\\epsilon K}{b})))$ : we want this to be small enough.\n",
    "\n",
    "Using parameter listed below, we check these condition for several choice of $\\epsilon$. "
   ]
  },
  {
   "cell_type": "code",
   "execution_count": 1,
   "metadata": {
    "slideshow": {
     "slide_type": "-"
    }
   },
   "outputs": [],
   "source": [
    "from theorem import *\n",
    "%matplotlib inline\n",
    "\n",
    "alpha = {\"division\":1.75, \"death\":0, \"pasym\":0.9, \"psym\":0.0525, \"dsym\":0.1-0.0525,\n",
    "         \"adjust\":1e-2, \"v\":1e-6, \"K\":10**9.3, \"dd\":1.14794853, \"dp\":2.12*1e-3, \"dm\":5*1e-6,\n",
    "         \"l_ratio\":0.15/(1.6+0.15), \"pow\":0.4117, \"eps\":1e-5}"
   ]
  },
  {
   "cell_type": "markdown",
   "metadata": {},
   "source": [
    "`alpha` is the dictionary to save our parameters, And we use conditional probability $p_{G,U}$ to be $4/(1+|F|) : 7/(1+|S|) : 4$ for $F, S, M$ which is the same as in simulation code. And the changing of parameters under mutation is also the same as in simulation codes.\n",
    "\n",
    "Then let's do the checks of conditions:"
   ]
  },
  {
   "cell_type": "code",
   "execution_count": 2,
   "metadata": {
    "scrolled": true
   },
   "outputs": [
    {
     "name": "stdout",
     "output_type": "stream",
     "text": [
      "Excess Survival ratio: 0.0004761278719459091\n",
      "P(mutiation in [0,tao]): 0.08894743721510245\n",
      "Init time to grow to size eps*K: 21.80 years\n",
      "Approximation Consistency:  0.08915853364391768\n",
      "{'b': 0.091875, 'd': 0.08312500000000002, 'r': 0.00874999999999998, 'K': 1995262314.9688828, 'G': 41600, 'va': 5e-09, 'vs': 1e-08, 'v': 5.025e-09}\n"
     ]
    }
   ],
   "source": [
    "TestNULL = tissue(alpha, pGUfunc2, 52*80,52*80*10)\n",
    "print(TestNULL.para)"
   ]
  },
  {
   "cell_type": "markdown",
   "metadata": {},
   "source": [
    "As you can see above: `Excess Survival ratio` is the first term. `Approximation Consistency` is the second condition and `P(mutiation in [0,tao])` is the last. `Init time to grow to size eps*K` is num years to growth to size $\\epsilon K$ under determinstic dynamics. Also you can see a dictionary containing model parameters $r,b,d,K, v_a, v_s, v$ and gene type $G$.\n",
    "\n",
    "Even `Excess Survival ratio` and `P(mutiation in [0,tao])` are reasonable small, but `Approximation Consistency` is far away from 1. This may be because growth time $T$ is large (22 years) and $r / b$ is small. \n",
    "\n",
    "If we change $\\epsilon$ to other values, the results are following:"
   ]
  },
  {
   "cell_type": "code",
   "execution_count": 3,
   "metadata": {
    "scrolled": true
   },
   "outputs": [
    {
     "name": "stdout",
     "output_type": "stream",
     "text": [
      "Excess Survival ratio: 0.004761278719459091\n",
      "P(mutiation in [0,tao]): 0.0066548079709829455\n",
      "Init time to grow to size eps*K: 16.72 years\n",
      "Approximation Consistency:  0.09016676239647026\n",
      "{'b': 0.091875, 'd': 0.08312500000000002, 'r': 0.00874999999999998, 'K': 1995262314.9688828, 'G': 41600, 'va': 5e-09, 'vs': 1e-08, 'v': 5.025e-09}\n"
     ]
    }
   ],
   "source": [
    "alpha[\"eps\"] = 1e-6\n",
    "TestNULL = tissue(alpha, pGUfunc2, 52*80,52*80*10)\n",
    "print(TestNULL.para)"
   ]
  },
  {
   "cell_type": "code",
   "execution_count": 5,
   "metadata": {},
   "outputs": [
    {
     "name": "stdout",
     "output_type": "stream",
     "text": [
      "Excess Survival ratio: 0.047612787194590916\n",
      "P(mutiation in [0,tao]): 0.0004037815909366804\n",
      "Init time to grow to size eps*K: 11.65 years\n",
      "Approximation Consistency:  0.09057946281081819\n",
      "{'b': 0.091875, 'd': 0.08312500000000002, 'r': 0.00874999999999998, 'K': 1995262314.9688828, 'G': 41600, 'va': 5e-09, 'vs': 1e-08, 'v': 5.025e-09}\n"
     ]
    }
   ],
   "source": [
    "alpha[\"eps\"] = 1e-7\n",
    "TestNULL = tissue(alpha, pGUfunc2, 52*80,52*80*10)\n",
    "print(TestNULL.para)"
   ]
  },
  {
   "cell_type": "code",
   "execution_count": 7,
   "metadata": {},
   "outputs": [
    {
     "name": "stdout",
     "output_type": "stream",
     "text": [
      "Excess Survival ratio: 4.76127871945909e-05\n",
      "P(mutiation in [0,tao]): 0.6974136888204194\n",
      "Init time to grow to size eps*K: 26.93 years\n",
      "Approximation Consistency:  0.08655511474085387\n",
      "{'b': 0.091875, 'd': 0.08312500000000002, 'r': 0.00874999999999998, 'K': 1995262314.9688828, 'G': 41600, 'va': 5e-09, 'vs': 1e-08, 'v': 5.025e-09}\n"
     ]
    }
   ],
   "source": [
    "alpha[\"eps\"] = 1e-4\n",
    "TestNULL = tissue(alpha, pGUfunc2, 52*80,52*80*10)\n",
    "print(TestNULL.para)"
   ]
  },
  {
   "cell_type": "code",
   "execution_count": 8,
   "metadata": {
    "scrolled": true
   },
   "outputs": [
    {
     "name": "stdout",
     "output_type": "stream",
     "text": [
      "Excess Survival ratio: 4.76127871945909e-06\n",
      "P(mutiation in [0,tao]): 0.9999995401225386\n",
      "Init time to grow to size eps*K: 32.18 years\n",
      "Approximation Consistency:  0.07983625483364265\n",
      "{'b': 0.091875, 'd': 0.08312500000000002, 'r': 0.00874999999999998, 'K': 1995262314.9688828, 'G': 41600, 'va': 5e-09, 'vs': 1e-08, 'v': 5.025e-09}\n"
     ]
    }
   ],
   "source": [
    "alpha[\"eps\"] = 1e-3\n",
    "TestNULL = tissue(alpha, pGUfunc2, 52*80,52*80*10)\n",
    "print(TestNULL.para)"
   ]
  },
  {
   "cell_type": "markdown",
   "metadata": {},
   "source": [
    "As you can see, `Approximation Consistency` is like a constant and far away from $1$. This may be because $e^{-rt} \\epsilon K$ is close to 1. Therefore condition 2 can not be easily held.\n",
    "\n",
    "### Results\n",
    "\n",
    "The result in a careful selected parameters is shown below. And notice that in caculation and for every plot we delet first 21.8 years which is the growth time to $\\epsilon K$ because we assume there's no mutation happened in this range."
   ]
  },
  {
   "cell_type": "code",
   "execution_count": 11,
   "metadata": {},
   "outputs": [
    {
     "name": "stdout",
     "output_type": "stream",
     "text": [
      "Excess Survival ratio: 0.0004761278719459091\n",
      "P(mutiation in [0,tao]): 0.08894743721510245\n",
      "Init time to grow to size eps*K: 21.80 years\n",
      "Approximation Consistency:  0.08915853364391768\n",
      "S  SS  SSS  SSF  SSM  SF  SFS  SFF  SFM  SM  SMS  SMF  SMM  F  FS  FSS  FSF  FSM  FF  FFS  FFF  FFM  FM  FMS  FMF  FMM  M  MS  MSS  MSF  MSM  MF  MFS  MFF  MFM  MM  MMS  MMF  MMM  \n",
      "Done\n"
     ]
    }
   ],
   "source": [
    "alpha[\"eps\"] = 1e-5\n",
    "TestNULL = tissue(alpha, pGUfunc2, 52*80,52*80*10)\n",
    "solution = TestNULL.solve()\n",
    "print(\"Done\")"
   ]
  },
  {
   "cell_type": "code",
   "execution_count": 14,
   "metadata": {},
   "outputs": [
    {
     "data": {
      "image/png": "[encoded data removed]",
      "text/plain": [
       "<Figure size 432x288 with 1 Axes>"
      ]
     },
     "metadata": {
      "needs_background": "light"
     },
     "output_type": "display_data"
    }
   ],
   "source": [
    "plt.plot(TestNULL.ts/52, 1-solution[\"\"], label='Line 1')\n",
    "plt.xlabel(\"years\")\n",
    "plt.ylabel(\"p(cancer)\")\n",
    "plt.show()"
   ]
  },
  {
   "cell_type": "markdown",
   "metadata": {},
   "source": [
    "Also we can plot this type of probability curve of getting cancer condition on the given initial Genetype:"
   ]
  },
  {
   "cell_type": "code",
   "execution_count": 15,
   "metadata": {},
   "outputs": [
    {
     "data": {
      "image/png": "[encoded data removed]",
      "text/plain": [
       "<Figure size 432x288 with 1 Axes>"
      ]
     },
     "metadata": {
      "needs_background": "light"
     },
     "output_type": "display_data"
    }
   ],
   "source": [
    "M, = plt.plot(TestNULL.ts/52, 1-solution[\"M\"], label='Line 1')\n",
    "S, = plt.plot(TestNULL.ts/52, 1-solution[\"S\"], label='Line 2')\n",
    "F, = plt.plot(TestNULL.ts/52, 1-solution[\"F\"], label='Line 3')\n",
    "plt.legend([M,S,F], ['M','S','F'])\n",
    "plt.xlabel(\"years\")\n",
    "plt.ylabel(\"p(cancer)\")\n",
    "plt.title(\"Probability curve for given initial Genetypes\")\n",
    "plt.show()"
   ]
  },
  {
   "cell_type": "code",
   "execution_count": 16,
   "metadata": {
    "scrolled": true
   },
   "outputs": [
    {
     "data": {
      "image/png": "[encoded data removed]",
      "text/plain": [
       "<Figure size 432x288 with 1 Axes>"
      ]
     },
     "metadata": {
      "needs_background": "light"
     },
     "output_type": "display_data"
    }
   ],
   "source": [
    "SM, = plt.plot(TestNULL.ts/52, 1-solution[\"SM\"], label='Line 1')\n",
    "FS, = plt.plot(TestNULL.ts/52, 1-solution[\"FS\"], label='Line 2')\n",
    "FM, = plt.plot(TestNULL.ts/52, 1-solution[\"FM\"], label='Line 3')\n",
    "FF, = plt.plot(TestNULL.ts/52, 1-solution[\"FF\"], label='Line 4')\n",
    "plt.legend([SM,FS,FM,FF], ['SM','FS','FM','FF'])\n",
    "plt.xlabel(\"years\")\n",
    "plt.ylabel(\"p(cancer)\")\n",
    "plt.title(\"Probability curve for given initial Genetypes (2 mutation)\")\n",
    "plt.show()"
   ]
  },
  {
   "cell_type": "markdown",
   "metadata": {},
   "source": [
    "### Conclusion\n",
    "\n",
    "We may need a better model."
   ]
  }
 ],
 "metadata": {
  "kernelspec": {
   "display_name": "Python 3",
   "language": "python",
   "name": "python3"
  },
  "language_info": {
   "codemirror_mode": {
    "name": "ipython",
    "version": 3
   },
   "file_extension": ".py",
   "mimetype": "text/x-python",
   "name": "python",
   "nbconvert_exporter": "python",
   "pygments_lexer": "ipython3",
   "version": "3.6.7"
  }
 },
 "nbformat": 4,
 "nbformat_minor": 2
}
