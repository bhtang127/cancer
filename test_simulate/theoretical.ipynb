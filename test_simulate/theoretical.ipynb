{
 "cells": [
  {
   "cell_type": "code",
   "execution_count": 5,
   "metadata": {
    "slideshow": {
     "slide_type": "-"
    }
   },
   "outputs": [],
   "source": [
    "import numpy as np\n",
    "import matplotlib.pyplot as plt\n",
    "%matplotlib inline\n",
    "\n",
    "class GeneType():\n",
    "    \n",
    "    def __init__(self, Gene, alpha):\n",
    "        # alpha = {division_rate:division, pasym, psym, dsym, \n",
    "        #          death_rate:death, v, compete:c, K, adjust,\n",
    "        #          mul_division:dd, delta_psym:dp, delta_mute:dm}\n",
    "        self.G = Gene\n",
    "        self.alpha = alpha\n",
    "        return\n",
    "    \n",
    "    def mutate(self, types):\n",
    "        \n",
    "        alpha = {key:self.alpha[key] for key in self.alpha}\n",
    "        for mut in types:\n",
    "            \n",
    "            if len(self.G) >= 3:\n",
    "                return self.get_attr(), self.get_alpha()\n",
    "        \n",
    "            if mut == \"S\":\n",
    "                alpha[\"division\"] *= alpha[\"dd\"]\n",
    "            elif mut == \"F\":\n",
    "                r_before = (alpha[\"psym\"]-alpha[\"dsym\"])*alpha[\"division\"]-alpha[\"death\"]\n",
    "                \n",
    "                alpha[\"psym\"] += alpha[\"dp\"]\n",
    "                alpha[\"pasym\"] -= alpha[\"dp\"]\n",
    "                \n",
    "                r_after = (alpha[\"psym\"]-alpha[\"dsym\"])*alpha[\"division\"]-alpha[\"death\"]\n",
    "                \n",
    "                alpha[\"K\"] *= r_after/r_before\n",
    "                \n",
    "            else:\n",
    "                alpha[\"v\"] += alpha[\"dm\"]\n",
    "\n",
    "            self.G += mut\n",
    "        \n",
    "        self.alpha = alpha\n",
    "        return self.get_attr(), self.get_alpha()\n",
    "    \n",
    "    def get_attr(self):\n",
    "        alpha = self.alpha\n",
    "        \n",
    "        self.va = alpha[\"v\"] * alpha[\"adjust\"] / 2\n",
    "        self.vs = alpha[\"v\"] * alpha[\"adjust\"]\n",
    "        self.v = self.va * alpha[\"pasym\"] + self.vs * alpha[\"psym\"]\n",
    "        self.K = alpha[\"K\"]\n",
    "        \n",
    "        self.b = self.alpha[\"psym\"] * self.alpha[\"division\"]\n",
    "        self.d = self.alpha[\"dsym\"] * self.alpha[\"division\"] + self.alpha[\"death\"]\n",
    "        self.r = self.b - self.d\n",
    "        \n",
    "        return {\"b\":self.b, \"d\":self.d, \"r\":self.r, \"K\":self.K, \"G\":self.G,\n",
    "                \"va\":self.va, \"vs\":self.vs, \"v\":self.v}\n",
    "    \n",
    "    def get_alpha(self):\n",
    "        return self.alpha\n",
    "\n",
    "    \n",
    "class tissue():\n",
    "    \n",
    "    def __init__(self, alpha, pfunc, \n",
    "                 eps, T, period, Gene=\"\",\n",
    "                 check = True):\n",
    "        self.eps = eps\n",
    "        self.ptrans = pfunc\n",
    "        self.alpha = alpha\n",
    "        self.T = T\n",
    "        self.period = period\n",
    "        self.para = GeneType(Gene, alpha).get_attr()\n",
    "        self.ts = np.linspace(0, self.T, num=self.period)\n",
    "        self.solution = {}\n",
    "        if check:\n",
    "            self.self_check()\n",
    "    \n",
    "    def self_check(self):\n",
    "        self.excess_survive_rate = (self.para[\"d\"]/self.para[\"b\"]) * (self.eps*self.para[\"K\"])**(-1)\n",
    "        self.mutation_before_epsK = 1 - np.exp(\n",
    "                        -self.para[\"v\"]*self.eps*self.para[\"K\"]/self.para[\"r\"] * \n",
    "                         (np.log(self.para[\"r\"]*self.eps*self.para[\"K\"]/self.para[\"b\"]) + 0.58)\n",
    "                        )\n",
    "        print(\"Excess Survival ratio : \", self.excess_survive_rate/(self.para[\"r\"]/self.para[\"b\"]))\n",
    "        print(\"P(mutiation in [0,tao]): \", self.mutation_before_epsK)\n",
    "    \n",
    "    def density(self, ts, para):\n",
    "        e_rGt = np.exp(-para[\"r\"]*ts)\n",
    "        return (para[\"r\"]**2 * self.eps*para[\"K\"])/para[\"b\"] * e_rGt * \\\n",
    "                np.exp(-para[\"r\"]*self.eps*para[\"K\"] * e_rGt/para[\"b\"])\n",
    "    \n",
    "    def get_Gene(self, G, alpha):\n",
    "        return GeneType(G, alpha)\n",
    "    \n",
    "    def mutate(self, types):\n",
    "        self.para, self.alpha = self.get_Gene(self.para[\"G\"],self.alpha).mutate(types)\n",
    "    \n",
    "    def vGfunc(self, ts, para):\n",
    "        erGt = np.exp(para[\"r\"] * ts)\n",
    "        return para[\"v\"] * self.eps*para[\"K\"]**2 * \\\n",
    "                erGt / (para[\"K\"] + self.eps*para[\"K\"]*(erGt - 1))\n",
    "        \n",
    "    def muiGUfunc(self, ts, mtype, para, alpha):\n",
    "        GU, _ = self.get_Gene(para[\"G\"], alpha).mutate(mtype)\n",
    "        vG = self.vGfunc(ts, para)\n",
    "        fGU = self.density(ts, GU)\n",
    "        ds = (ts[-1] - ts[0]) / (len(ts)-1)\n",
    "        coeff = self.ptrans(para[\"G\"], mtype)*GU[\"r\"] / GU[\"b\"]\n",
    "        return coeff * np.convolve(vG*ds, fGU)[:len(ts)]\n",
    "    \n",
    "    def evolve(self, ts, muiGU, qGU):\n",
    "        ds = (ts[-1] - ts[0]) / (len(ts)-1)\n",
    "        qGU_rev = qGU[::-1]\n",
    "        aux = np.convolve(muiGU*ds, 1-qGU_rev)[:len(muiGU)]\n",
    "        aux = aux[::-1]\n",
    "        return np.exp(-aux)\n",
    "        \n",
    "    def solveAUX(self, ts, para, alpha):\n",
    "        if para[\"G\"]:\n",
    "            print(para[\"G\"], end=\"  \")\n",
    "        if len(para[\"G\"]) == 3 and \"S\" in para[\"G\"] and \"F\" in para[\"G\"]:\n",
    "            self.solution[para[\"G\"]] = np.zeros_like(ts)\n",
    "            return np.zeros_like(ts)\n",
    "        elif len(para[\"G\"]) == 3:\n",
    "            self.solution[para[\"G\"]] = np.ones_like(ts)\n",
    "            return np.ones_like(ts)\n",
    "        else:\n",
    "            qG = np.ones_like(ts)\n",
    "            for U in \"SFM\":\n",
    "                paraU,alphaU = self.get_Gene(para[\"G\"], alpha).mutate(U)\n",
    "                muiGU = self.muiGUfunc(ts, U, para, alpha)\n",
    "                qG *= self.evolve(ts, muiGU, self.solveAUX(ts, paraU, alphaU))\n",
    "            self.solution[para[\"G\"]] = qG\n",
    "            return qG\n",
    "    \n",
    "    def solve(self):\n",
    "        self.solveAUX(self.ts,self.para,self.alpha)\n",
    "        print(\"\")\n",
    "        return self.solution\n",
    "        \n",
    "    \n",
    "def pGUfunc(G, U):\n",
    "    F, S, M = 0, 0, 0\n",
    "    for c in G:\n",
    "        if c == \"F\":\n",
    "            F += 1\n",
    "        if c == \"S\":\n",
    "            S += 1\n",
    "    pdict = {\"F\":4/(1+F), \"S\":7/(1+S), \"M\":4}\n",
    "#     pdict = {\"F\":4, \"S\":7, \"M\":7}\n",
    "    return pdict[U] / (pdict[\"F\"]+pdict[\"S\"]+pdict[\"M\"])\n",
    "    "
   ]
  },
  {
   "cell_type": "code",
   "execution_count": 2,
   "metadata": {
    "scrolled": true
   },
   "outputs": [
    {
     "name": "stdout",
     "output_type": "stream",
     "text": [
      "Excess Survival ratio :  0.05700000000000007\n",
      "P(mutiation in [0,tao]):  0.0006222773523772984\n",
      "{'v': 1e-06, 'dm': 4.9999999999999996e-06, 'pasym': 0.9, 'death': 0, 'dd': 1.14794853, 'K': 16666666.666666666, 'psym': 0.0525, 'dp': 0.0021200000000000004, 'adjust': 0.015, 'division': 1.35, 'dsym': 0.04750000000000001}\n",
      "S  SS  SSS  SSF  SSM  SF  SFS  SFF  SFM  SM  SMS  SMF  SMM  F  FS  FSS  FSF  FSM  FF  FFS  FFF  FFM  FM  FMS  FMF  FMM  M  MS  MSS  MSF  MSM  MF  MFS  MFF  MFM  MM  MMS  MMF  MMM  \n",
      "Done\n"
     ]
    }
   ],
   "source": [
    "alpha = {\"division\":1.35, \"death\":0, \"pasym\":0.9, \"psym\":0.0525, \"dsym\":0.1-0.0525,\n",
    "         \"adjust\":1.5*1e-2, \"v\":1e-6, \"K\":2e8/12, \"dd\":1.14794853, \"dp\":2.12*1e-3, \"dm\":5*1e-6}\n",
    "\n",
    "TestNULL = tissue(alpha, pGUfunc,1e-5,52*80,52*80*10)\n",
    "print(TestNULL.alpha)\n",
    "solution = TestNULL.solve()\n",
    "print(\"Done\")"
   ]
  },
  {
   "cell_type": "code",
   "execution_count": 3,
   "metadata": {},
   "outputs": [
    {
     "data": {
      "text/plain": [
       "array([0.93655665, 0.93659108, 0.93662549, ..., 1.        , 1.        ,\n",
       "       1.        ])"
      ]
     },
     "execution_count": 3,
     "metadata": {},
     "output_type": "execute_result"
    }
   ],
   "source": [
    "solution[\"\"]"
   ]
  },
  {
   "cell_type": "code",
   "execution_count": 6,
   "metadata": {},
   "outputs": [
    {
     "data": {
      "image/png": "[encoded data removed]",
      "text/plain": [
       "<Figure size 432x288 with 1 Axes>"
      ]
     },
     "metadata": {
      "needs_background": "light"
     },
     "output_type": "display_data"
    }
   ],
   "source": [
    "plt.plot(TestNULL.ts[:52*20*20]/52, 1-solution[\"\"][:52*20*20], label='Line 1')\n",
    "plt.show()"
   ]
  },
  {
   "cell_type": "code",
   "execution_count": 305,
   "metadata": {},
   "outputs": [
    {
     "data": {
      "image/png": "[encoded data removed]",
      "text/plain": [
       "<Figure size 432x288 with 1 Axes>"
      ]
     },
     "metadata": {
      "needs_background": "light"
     },
     "output_type": "display_data"
    }
   ],
   "source": [
    "SM, = plt.plot(TestNULL.ts/52, 1-solution[\"SM\"], label='Line 1')\n",
    "FS, = plt.plot(TestNULL.ts/52, 1-solution[\"FS\"], label='Line 2')\n",
    "FM, = plt.plot(TestNULL.ts/52, 1-solution[\"FM\"], label='Line 3')\n",
    "FF, = plt.plot(TestNULL.ts/52, 1-solution[\"FF\"], label='Line 4')\n",
    "plt.legend([SM,FS,FM,FF], ['SM','FS','FM','FF'])\n",
    "plt.show()"
   ]
  },
  {
   "cell_type": "code",
   "execution_count": 306,
   "metadata": {},
   "outputs": [
    {
     "data": {
      "image/png": "[encoded data removed]",
      "text/plain": [
       "<Figure size 432x288 with 1 Axes>"
      ]
     },
     "metadata": {
      "needs_background": "light"
     },
     "output_type": "display_data"
    }
   ],
   "source": [
    "M, = plt.plot(TestNULL.ts/52, 1-solution[\"M\"], label='Line 1')\n",
    "S, = plt.plot(TestNULL.ts/52, 1-solution[\"S\"], label='Line 2')\n",
    "F, = plt.plot(TestNULL.ts/52, 1-solution[\"F\"], label='Line 3')\n",
    "plt.legend([M,S,F], ['M','S','F'])\n",
    "plt.show()"
   ]
  },
  {
   "cell_type": "code",
   "execution_count": 21,
   "metadata": {},
   "outputs": [
    {
     "data": {
      "text/plain": [
       "2.254532194726022e-05"
      ]
     },
     "execution_count": 21,
     "metadata": {},
     "output_type": "execute_result"
    }
   ],
   "source": [
    "test = np.linspace(0,0.99,num=1000)\n",
    "true = np.exp(-(1-test)**3/6)\n",
    "def evolve(ts, muiGU, qGU):\n",
    "    ds = (ts[-1] - ts[0]) / (len(ts)-1)\n",
    "    qGU_rev = qGU[::-1]\n",
    "    aux = np.convolve(muiGU*ds, 1-qGU_rev)[:len(muiGU)]\n",
    "    aux = aux[::-1]\n",
    "    return np.exp(-aux)\n",
    "\n",
    "np.mean((evolve(test, test, test) - true)/true)"
   ]
  },
  {
   "cell_type": "code",
   "execution_count": 325,
   "metadata": {
    "scrolled": true
   },
   "outputs": [
    {
     "data": {
      "image/png": "[encoded data removed]",
      "text/plain": [
       "<Figure size 432x288 with 1 Axes>"
      ]
     },
     "metadata": {
      "needs_background": "light"
     },
     "output_type": "display_data"
    },
    {
     "data": {
      "text/plain": [
       "1.7186078999714165"
      ]
     },
     "execution_count": 325,
     "metadata": {},
     "output_type": "execute_result"
    }
   ],
   "source": [
    "import matplotlib.pyplot as plt\n",
    "%matplotlib inline\n",
    "\n",
    "def growth(ts, c, K, alpha, l):\n",
    "    ds = (ts[-1]-ts[0])/(len(ts)-1)\n",
    "    x = np.ones_like(ts)\n",
    "    for i, t in enumerate(ts[:-1]):\n",
    "        if x[i] < K:\n",
    "            rate = c*np.exp(-1/(1-(x[i]/K)**alpha)) + l\n",
    "        else:\n",
    "            rate = l\n",
    "        x[i+1] = x[i] + ds*x[i]*rate*0.005\n",
    "    return x\n",
    "\n",
    "\n",
    "\n",
    "ts = np.linspace(0,80*52,num=10000)\n",
    "xx = growth(ts, 1.75*np.exp(1), 10**(8.3), 0.411731, 0.15)\n",
    "plt.plot(ts[:-5001], 1/0.005 * np.diff(xx[:5000])*(len(ts)-1)/((ts[-1]-ts[0])*xx[:-5001]*(1-xx[:-5001]/(10**8.3))))\n",
    "plt.show()\n",
    "\n",
    "np.mean(1/0.005 * np.diff(xx[:5000])*(len(ts)-1)/((ts[-1]-ts[0])*xx[:-5001]*(1-xx[:-5001]/(10**8.3))))"
   ]
  },
  {
   "cell_type": "code",
   "execution_count": 7,
   "metadata": {
    "scrolled": true
   },
   "outputs": [
    {
     "data": {
      "image/png": "[encoded data removed]",
      "text/plain": [
       "<Figure size 432x288 with 1 Axes>"
      ]
     },
     "metadata": {
      "needs_background": "light"
     },
     "output_type": "display_data"
    },
    {
     "data": {
      "text/plain": [
       "299280062.7286574"
      ]
     },
     "execution_count": 7,
     "metadata": {},
     "output_type": "execute_result"
    }
   ],
   "source": [
    "from scipy import stats\n",
    "\n",
    "def growth(ns, K=10**8.301, p=0.41173119, c=np.exp(1)*1.6, d=0.15):\n",
    "    res = np.zeros_like(ns)\n",
    "    for i, n in enumerate(ns):\n",
    "        if n >= K:\n",
    "            res[i] = n*d\n",
    "        else:\n",
    "            res[i] = n*(c*np.exp(-1/(1-(n/K)**p)) + d)\n",
    "    return res\n",
    "\n",
    "KK = np.linspace(10**7, 10**8, num=10000)[np.argmax(growth(np.linspace(10**7, 10**8, num=10000)))]\n",
    "\n",
    "plt.loglog(10**np.linspace(0, 8.6, num=10000), growth(10**np.linspace(0, 8.6, num=10000))/10**np.linspace(0, 8.6, num=10000))\n",
    "plt.show()\n",
    "\n",
    "stats.linregress(10**np.linspace(0, 8.7, num=10000),growth(10**np.linspace(0, 8.7, num=10000))/10**np.linspace(0, 8.7, num=10000))\n",
    "\n",
    "1.5812997331580025 / 5.283678834936925e-09"
   ]
  }
 ],
 "metadata": {
  "kernelspec": {
   "display_name": "Python 3",
   "language": "python",
   "name": "python3"
  },
  "language_info": {
   "codemirror_mode": {
    "name": "ipython",
    "version": 3
   },
   "file_extension": ".py",
   "mimetype": "text/x-python",
   "name": "python",
   "nbconvert_exporter": "python",
   "pygments_lexer": "ipython3",
   "version": "3.5.2"
  }
 },
 "nbformat": 4,
 "nbformat_minor": 2
}
