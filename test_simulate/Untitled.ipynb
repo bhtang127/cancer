{
 "cells": [
  {
   "cell_type": "code",
   "execution_count": 1,
   "metadata": {},
   "outputs": [],
   "source": [
    "import numpy as np\n",
    "from itertools import product"
   ]
  },
  {
   "cell_type": "code",
   "execution_count": 3,
   "metadata": {},
   "outputs": [],
   "source": [
    "xx = np.load(\"TM_test.npy\")"
   ]
  },
  {
   "cell_type": "code",
   "execution_count": 4,
   "metadata": {},
   "outputs": [
    {
     "data": {
      "text/plain": [
       "2"
      ]
     },
     "execution_count": 4,
     "metadata": {},
     "output_type": "execute_result"
    }
   ],
   "source": [
    "len(xx)"
   ]
  },
  {
   "cell_type": "code",
   "execution_count": 18,
   "metadata": {},
   "outputs": [
    {
     "data": {
      "text/plain": [
       "45260226.0"
      ]
     },
     "execution_count": 18,
     "metadata": {},
     "output_type": "execute_result"
    }
   ],
   "source": [
    "xx[0][:,:,:,0][1,0,0]"
   ]
  },
  {
   "cell_type": "code",
   "execution_count": 5,
   "metadata": {},
   "outputs": [],
   "source": [
    "def test(xx):\n",
    "    for mu in xx:\n",
    "        print(np.argmax([mu[1,1,1,0],mu[1,2,0,0],mu[2,1,0,0]]))\n",
    "# test(xx)"
   ]
  },
  {
   "cell_type": "code",
   "execution_count": 1,
   "metadata": {},
   "outputs": [
    {
     "name": "stdout",
     "output_type": "stream",
     "text": [
      "Individual :  1\n",
      "10.166616916656494\n",
      "False\n",
      "Individual :  2\n",
      "12.07315182685852\n",
      "False\n",
      "Individual :  3\n",
      "10.23523235321045\n",
      "True\n",
      "Individual :  4\n",
      "10.8580641746521\n",
      "False\n",
      "Individual :  5\n",
      "12.503694534301758\n",
      "False\n",
      "Individual :  6\n",
      "12.262425422668457\n",
      "False\n",
      "Individual :  7\n",
      "8.9329674243927\n",
      "True\n",
      "Individual :  8\n",
      "13.395765542984009\n",
      "False\n",
      "Individual :  9\n",
      "15.174124240875244\n",
      "False\n",
      "Individual :  10\n",
      "13.102978944778442\n",
      "False\n"
     ]
    }
   ],
   "source": [
    "import code_for_bohao as cfb"
   ]
  },
  {
   "cell_type": "code",
   "execution_count": 7,
   "metadata": {},
   "outputs": [
    {
     "data": {
      "text/plain": [
       "([0, 0, 1, 0, 0, 0, 1, 0, 0, 0], [0, 0, 1, 0, 0, 0, 1, 0, 0, 0])"
      ]
     },
     "execution_count": 7,
     "metadata": {},
     "output_type": "execute_result"
    }
   ],
   "source": [
    "cfb.Label_twoHits, cfb.Label_oneHit"
   ]
  },
  {
   "cell_type": "code",
   "execution_count": 11,
   "metadata": {},
   "outputs": [
    {
     "data": {
      "text/plain": [
       "[array([[ 458.5],\n",
       "        [1463. ],\n",
       "        [3307. ]]), array([[ 562. ],\n",
       "        [1527. ],\n",
       "        [3645.5]])]"
      ]
     },
     "execution_count": 11,
     "metadata": {},
     "output_type": "execute_result"
    }
   ],
   "source": [
    "cfb.TH"
   ]
  },
  {
   "cell_type": "code",
   "execution_count": 8,
   "metadata": {},
   "outputs": [
    {
     "data": {
      "text/plain": [
       "([array([ 999.5, 3666.5, 5000. ]),\n",
       "  array([1521.5, 3703.5, 5000. ]),\n",
       "  array([ 458.5, 1463. , 3307. ]),\n",
       "  array([ 840. , 2653.5, 5000. ]),\n",
       "  array([ 623. , 2728.5, 5000. ]),\n",
       "  array([ 620.5, 2987.5, 5000. ]),\n",
       "  array([ 975., 2953., 5000.]),\n",
       "  array([1055. , 3077.5, 5000. ]),\n",
       "  array([1288., 3588., 5000.]),\n",
       "  array([ 428.5, 2096.5, 5000. ])],\n",
       " [array([ 999.5, 3666.5, 5000. ]),\n",
       "  array([1521.5, 3703.5, 5000. ]),\n",
       "  array([ 458.5, 1463. , 3307. ]),\n",
       "  array([ 840. , 2653.5, 5000. ]),\n",
       "  array([ 623. , 2728.5, 5000. ]),\n",
       "  array([ 620.5, 2987.5, 5000. ]),\n",
       "  array([ 975., 2953., 5000.]),\n",
       "  array([1055. , 3077.5, 5000. ]),\n",
       "  array([1288., 3588., 5000.]),\n",
       "  array([ 428.5, 2096.5, 5000. ])])"
      ]
     },
     "execution_count": 8,
     "metadata": {},
     "output_type": "execute_result"
    }
   ],
   "source": [
    "cfb.TH_oneHit, cfb.TH_twoHits"
   ]
  }
 ],
 "metadata": {
  "kernelspec": {
   "display_name": "Python 3",
   "language": "python",
   "name": "python3"
  },
  "language_info": {
   "codemirror_mode": {
    "name": "ipython",
    "version": 3
   },
   "file_extension": ".py",
   "mimetype": "text/x-python",
   "name": "python",
   "nbconvert_exporter": "python",
   "pygments_lexer": "ipython3",
   "version": "3.6.7"
  }
 },
 "nbformat": 4,
 "nbformat_minor": 2
}
